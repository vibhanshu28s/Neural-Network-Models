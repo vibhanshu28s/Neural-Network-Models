{
 "cells": [
  {
   "cell_type": "code",
   "execution_count": 5,
   "id": "6de48c16-768a-4ceb-94a8-cfc39adfa2b8",
   "metadata": {},
   "outputs": [
    {
     "name": "stdin",
     "output_type": "stream",
     "text": [
      "Enter a number between 0 and 1:  0\n"
     ]
    },
    {
     "name": "stdout",
     "output_type": "stream",
     "text": [
      "Perceptron classification: 0\n"
     ]
    }
   ],
   "source": [
    "import numpy as np\n",
    "\n",
    "# Step function (activation function)\n",
    "def step_function(x):\n",
    "    return 1 if x >= 0.5 else 0\n",
    "\n",
    "# Perceptron class\n",
    "class Perceptron:\n",
    "    def __init__(self, learning_rate=0.1, epochs=10):\n",
    "        # Initialize weight and bias\n",
    "        self.weight = np.random.rand()  # Single weight for 1D input\n",
    "        self.bias = np.random.rand()    # Initialize bias randomly\n",
    "        self.learning_rate = learning_rate\n",
    "        self.epochs = epochs\n",
    "\n",
    "    # Predict output for a given input\n",
    "    def predict(self, x):\n",
    "        linear_output = x * self.weight + self.bias\n",
    "        return step_function(linear_output)\n",
    "\n",
    "    # Train the perceptron\n",
    "    def train(self, X, y):\n",
    "        for epoch in range(self.epochs):\n",
    "            for i in range(len(X)):\n",
    "                prediction = self.predict(X[i])\n",
    "                error = y[i] - prediction\n",
    "                # Update weight and bias\n",
    "                self.weight += self.learning_rate * error * X[i]\n",
    "                self.bias += self.learning_rate * error\n",
    "\n",
    "# Training data (classification of numbers <0.5 as 0, >=0.5 as 1)\n",
    "X = np.array([0.1, 0.3, 0.7, 0.9])  # Inputs between 0 and 1\n",
    "y = np.array([0, 0, 1, 1])          # Outputs: <0.5 => 0, >=0.5 => 1\n",
    "\n",
    "# Initialize and train perceptron\n",
    "perceptron = Perceptron()\n",
    "perceptron.train(X, y)\n",
    "\n",
    "# Function to get user input and classify it\n",
    "def user_input_classification():\n",
    "    user_input = float(input(\"Enter a number between 0 and 1: \"))  # Expecting valid float input\n",
    "    if 0 <= user_input <= 1:\n",
    "        prediction = perceptron.predict(user_input)\n",
    "        print(f\"Perceptron classification: {prediction}\")\n",
    "    else:\n",
    "        print(\"Please enter a number between 0 and 1.\")\n",
    "\n",
    "# Classify user input\n",
    "user_input_classification()\n"
   ]
  },
  {
   "cell_type": "code",
   "execution_count": null,
   "id": "2878e9a3-2d15-4e6f-aaf5-16eac4002112",
   "metadata": {},
   "outputs": [],
   "source": []
  }
 ],
 "metadata": {
  "kernelspec": {
   "display_name": "Python 3 (ipykernel)",
   "language": "python",
   "name": "python3"
  },
  "language_info": {
   "codemirror_mode": {
    "name": "ipython",
    "version": 3
   },
   "file_extension": ".py",
   "mimetype": "text/x-python",
   "name": "python",
   "nbconvert_exporter": "python",
   "pygments_lexer": "ipython3",
   "version": "3.11.9"
  }
 },
 "nbformat": 4,
 "nbformat_minor": 5
}
